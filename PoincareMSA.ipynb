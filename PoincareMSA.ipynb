{
 "cells": [
  {
   "cell_type": "markdown",
   "metadata": {
    "id": "view-in-github"
   },
   "source": [
    "[![Open In Colab](https://colab.research.google.com/assets/colab-badge.svg)](https://colab.research.google.com/github/DSIMB/PoincareMSA/blob/master/PoincareMSA_colab.ipynb)"
   ]
  },
  {
   "cell_type": "markdown",
   "metadata": {
    "id": "W5FTaqy0xqw2"
   },
   "source": [
    "<img src=\"https://github.com/DSIMB/PoincareMSA/blob/master/.github/PoincareMSA_small_logo.png?raw=true\" height=\"100\" style=\"height:100px;margin-left: 0px;\">\n",
    "\n",
    "# Poincaré maps for visualization of large protein famillies\n",
    "\n",
    "**Authors**: Anna Klimovskaia Susmelj <a href=\"https://orcid.org/0000-0002-1057-6690\" target=\"_blank\"><img alt=\"ORCID logo\" src=\"https://info.orcid.org/wp-content/uploads/2019/11/orcid_16x16.png\"></a>, Yani Ren, Yann Vander Meersche <a href=\"https://orcid.org/0000-0002-6680-8104\" target=\"_blank\"><img alt=\"ORCID logo\" src=\"https://info.orcid.org/wp-content/uploads/2019/11/orcid_16x16.png\"></a>, Jean-Christophe Gelly <a href=\"https://orcid.org/0000-0001-5138-361X\" target=\"_blank\"><img alt=\"ORCID logo\" src=\"https://info.orcid.org/wp-content/uploads/2019/11/orcid_16x16.png\"></a> and Tatiana Galochkina <a href=\"https://orcid.org/0000-0002-3608-5208\" target=\"_blank\"><img alt=\"ORCID logo\" src=\"https://info.orcid.org/wp-content/uploads/2019/11/orcid_16x16.png\"></a>\n",
    "\n",
    "<p>\n",
    "\tPoincaréMSA is a computational tool for visualization of large protein families developed by <a href=\"https://doi.org/10.1093/bib/bbad103\" target=\"_blank\" data-bs-toggle=\"tooltip\" style=\"text-decoration:none;\" data-bs-placement=\"top\" title=\"Susmelj A.K., Ren Y., Vander Meersche Y., Gelly J.C, Galochkina T. (2023). Poincaré maps for visualization of large protein families. Briefings in bioinformatics, -. https://doi.org/10.1093/bib/bbad103\">Susmelj et al.</a> PoincaréMSA builds an interactive projection of an input protein multiple sequence alignment provided by the user or built on-the-flow from the target sequence. The underlying algorithm is based on Poincaré maps introduced by <a href=\"https://doi.org/10.1038/s41467-020-16822-4\" target=\"_blank\" data-bs-toggle=\"tooltip\" style=\"text-decoration:none;\" data-bs-placement=\"top\" title=\"Klimovskaia, A., Lopez-Paz, D., Bottou, L. et al. Poincaré maps for analyzing complex hierarchies in single-cell data. Nat Commun 11, 2966 (2020).\">Klimovskaia et al.</a>. It successfully reproduces both local proximities between protein sequences as well as global hierarchical structure of the data.\n",
    "</p>\n",
    "<p>\n",
    "\tYou can find a step-by-step explication of PoincaréMSA construction on the <a href=\"https://www.dsimb.inserm.fr/POINCARE_MSA/tutorial.html\" target=\"_blank\">Tutorial</a> page and several examples of PoincaréMSA projection for protein families on the <a href=\"https://www.dsimb.inserm.fr/POINCARE_MSA/examples.html\" target=\"_blank\">Examples</a> page. The source code is available at <a href=\"https://github.com/DSIMB/PoincareMSA\" target=\"_blank\">https://github.com/DSIMB/PoincareMSA</a>.<br>\n",
    "</p>\n",
    "<p class=\"mb-1\"><strong>Please use the following reference when citing the PoincaréMSA:</strong></p>\n",
    "<p>Susmelj A.K., Ren Y., Vander Meersche Y., Gelly J.C., &amp; Galochkina T. (2023). Poincaré maps for visualization of large protein families. <i>Briefings in bioinformatics</i>, bbad103, <a href=\"https://doi.org/10.1093/bib/bbad103\" target=\"_blank\">https://doi.org/10.1093/bib/bbad103</a></p>"
   ]
  },
  {
   "cell_type": "markdown",
   "metadata": {
    "id": "Oa7Rrq-YzfQB"
   },
   "source": [
    "# Notebook initialization"
   ]
  },
  {
   "cell_type": "code",
   "execution_count": null,
   "metadata": {
    "cellView": "form",
    "colab": {
     "base_uri": "https://localhost:8080/"
    },
    "id": "X_SO37g-kQq7",
    "outputId": "c30184db-2ef2-4a87-fd43-db8fd3ed5379"
   },
   "outputs": [],
   "source": [
    "#Load dependencies\n",
    "import os\n",
    "import numpy as np\n",
    "import pandas as pd\n",
    "import subprocess\n",
    "import json\n",
    "import warnings\n",
    "warnings.filterwarnings('ignore')\n",
    "\n",
    "#Import visualization functions\n",
    "from scripts.visualize_projection.pplots_new import read_embeddings, plot_embedding, plot_embedding_interactive, rotate, get_colors\n",
    "from scripts.prepare_data.mmseqs2_api import run_mmseqs2\n",
    "from scripts.prepare_data.uniprot_idmapping_api import submit_id_mapping, check_id_mapping_results_ready, get_id_mapping_results_link, get_id_mapping_results_search\n",
    "from scripts.build_poincare_map.poincare_maps_rotation import *\n",
    "%matplotlib inline\n",
    "\n",
    "#Create optional variables\n",
    "path_annotation = \"\""
   ]
  },
  {
   "cell_type": "markdown",
   "metadata": {
    "id": "IPi6cky3wgC8"
   },
   "source": [
    "# Data import"
   ]
  },
  {
   "cell_type": "code",
   "execution_count": null,
   "metadata": {
    "cellView": "form",
    "colab": {
     "base_uri": "https://localhost:8080/",
     "height": 75,
     "resources": {
      "http://localhost:8080/nbextensions/google.colab/files.js": {
       "data": "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",
       "headers": [
        [
         "content-type",
         "application/javascript"
        ]
       ],
       "ok": true,
       "status": 200,
       "status_text": "OK"
      }
     }
    },
    "id": "GcbgnooHwIGh",
    "outputId": "dc30ce27-d01c-4953-cdb7-9d5fe599ad6d"
   },
   "outputs": [],
   "source": [
    "# OPTIONS =================================================\n",
    "#MSA in mfasta format\n",
    "mfasta = \"path/to/multifasta.mfasta\"\n",
    "\n",
    "#Annotation file (.csv) or UniProt ID list. (Emtpy strings for no annotations)\n",
    "path_annotation_csv = \"path/to/annotation.csv\"   # Path or \"\"\n",
    "# OR\n",
    "path_uniprot_list = \"\"   # Path or \"\"\n",
    "#==========================================================\n",
    "\n",
    "\n",
    "#Check files\n",
    "#mfasta\n",
    "nb_seq = 0\n",
    "if os.path.isfile(mfasta):\n",
    "    with open(mfasta, \"r\") as f_in:\n",
    "        for line in f_in:\n",
    "            if line[0] == \">\":\n",
    "                nb_seq += 1\n",
    "    print(f\"\\nNumber of sequences found: {nb_seq}.\")\n",
    "else:\n",
    "    print(f\"File {mfasta} not found.\")\n",
    "\n",
    "\n",
    "#Check that only one path is selected\n",
    "is_empty = False\n",
    "\n",
    "if path_annotation_csv and path_uniprot_list:\n",
    "    raise ValueError(\"Use only one file path (path_annotation_csv OR path_uniprot_list).\")\n",
    "\n",
    "if path_annotation_csv:\n",
    "    if os.path.isfile(path_annotation_csv):\n",
    "        try:\n",
    "            df_annotation = pd.read_csv(path_annotation_csv)\n",
    "        except:\n",
    "            raise ValueError(\"Annotation file is not in .csv format.\")\n",
    "        else:\n",
    "            if len(df_annotation) != nb_seq:\n",
    "                raise ValueError(\"Annotation file doesn't match the .mfasta file length.\")\n",
    "\n",
    "        print(\"\\nAnnotation file correctly loaded.\")\n",
    "        annotation_names = [\"proteins_id\"] + list(df_annotation.loc[:, df_annotation.columns != 'proteins_id'].columns)\n",
    "        print(f\"{len(annotation_names)} annotations found: {annotation_names}.\")\n",
    "    else:\n",
    "        print(f\"File {path_annotation_csv} not found.\")\n",
    "\n",
    "elif path_uniprot_list:\n",
    "    if os.path.isfile(path_uniprot_list):\n",
    "        try:\n",
    "            UnP_ids = np.genfromtxt(path_uniprot_list, dtype=\"str\")\n",
    "        except:\n",
    "            raise ValueError(\"UniProt IDs file is not in a valid format.\")\n",
    "        else:\n",
    "            if len(UnP_ids) != nb_seq:\n",
    "                raise ValueError(\"UniProt IDs file doesn't match the .mfasta file length.\")     \n",
    "\n",
    "            #Split UniProtKB and UniParc IDs\n",
    "            uniparc_ids = []\n",
    "            uniprot_ids = []\n",
    "            for unp in UnP_ids:\n",
    "                if len(unp) == 13 and unp[:2] == \"UP\":\n",
    "                    uniparc_ids.append(unp)\n",
    "                else:\n",
    "                    uniprot_ids.append(unp)\n",
    "\n",
    "            #Fetch UniProtKB annotations\n",
    "            job_id = submit_id_mapping(\n",
    "                from_db=\"UniProtKB_AC-ID\", to_db=\"UniParc\", ids=uniprot_ids\n",
    "            )\n",
    "\n",
    "            if check_id_mapping_results_ready(job_id):\n",
    "                link = get_id_mapping_results_link(job_id)\n",
    "                results = get_id_mapping_results_search(link)\n",
    "\n",
    "            #Fetch UniParc annotations\n",
    "            job_id = submit_id_mapping(\n",
    "                from_db=\"UniParc\", to_db=\"UniParc\", ids=uniparc_ids\n",
    "            )\n",
    "\n",
    "            if check_id_mapping_results_ready(job_id):\n",
    "                link = get_id_mapping_results_link(job_id)\n",
    "                results2 = get_id_mapping_results_search(link)\n",
    "\n",
    "            #Create annotation dataframe\n",
    "            df_annotation = pd.DataFrame(UnP_ids, columns=[\"UnP_ID\"])\n",
    "            df_annotation[[\"organism\", \"proteinName\", \"taxonId\", \"species\", \"genus\", \\\n",
    "                           \"family\", \"order\", \"class\", \"phylum\", \"clade\", \"superkingdom\"]] = \"\"\n",
    "\n",
    "            #Fill the annotation DataFrame\n",
    "            for dict_res in results[\"results\"] + results2[\"results\"]:\n",
    "                try:\n",
    "                    unp = dict_res[\"from\"]\n",
    "                    prot_name = dict_res[\"to\"][\"uniParcCrossReferences\"][0][\"proteinName\"]\n",
    "                    df_annotation.loc[df_annotation[\"UnP_ID\"] == unp, \"proteinName\"] = prot_name\n",
    "                    scientific_name = dict_res[\"to\"][\"uniParcCrossReferences\"][0][\"organism\"][\"scientificName\"]\n",
    "                    taxid = dict_res[\"to\"][\"uniParcCrossReferences\"][0][\"organism\"][\"taxonId\"]\n",
    "                    df_annotation.loc[df_annotation[\"UnP_ID\"] == unp, \"organism\"] = scientific_name\n",
    "                    df_annotation.loc[df_annotation[\"UnP_ID\"] == unp, \"taxonId\"] = taxid\n",
    "                except KeyError:\n",
    "                    continue\n",
    "\n",
    "            #Add lineage from NCBI Taxonomist\n",
    "            taxon_ids = df_annotation.loc[df_annotation[\"taxonId\"].notnull(), 'taxonId'].to_numpy()\n",
    "            taxon_ids = list(set(taxon_ids))\n",
    "            taxon_ids = list(map(str, taxon_ids))\n",
    "            bash_command = f\"ncbi-taxonomist resolve -t {','.join(taxon_ids)}\"\n",
    "            list_taxon = subprocess.run(bash_command, shell=True, capture_output=True, text=True).stdout.strip().split(\"\\n\")\n",
    "\n",
    "            if list_taxon != [\"\"]:\n",
    "                for taxon in list_taxon:\n",
    "                    jsonString = taxon\n",
    "                    taxon_dict = json.loads(jsonString)\n",
    "                    query = taxon_dict[\"query\"]\n",
    "                    for lineage in taxon_dict[\"lineage\"]:\n",
    "                        rank = lineage[\"rank\"]\n",
    "                        if rank in [\"species\", \"genus\", \"family\", \"order\", \"class\", \"phylum\", \"clade\", \"superkingdom\"]:\n",
    "                            name = lineage[\"name\"]\n",
    "                            df_annotation.loc[df_annotation[\"taxonId\"] == int(query), rank] = name\n",
    "\n",
    "            #Save annotation to csv\n",
    "            path_annotation = \"auto_annot.csv\"\n",
    "            df_annotation.to_csv(path_annotation, index=False)\n",
    "\n",
    "            is_empty = df_annotation[df_annotation[\"UnP_ID\"] != \"query\"].drop(\"UnP_ID\", axis=1).eq(\"\").all().all()\n",
    "            if is_empty:\n",
    "                print(\"\\nNo annotations fetched.\")\n",
    "            else:\n",
    "                annotation_names = [\"proteins_id\"] + list(df_annotation.loc[:, df_annotation.columns != 'proteins_id'].columns)\n",
    "                print(f\"{len(annotation_names)} annotations found: {annotation_names}.\")\n",
    "    else:\n",
    "        print(f\"File {path_uniprot_list} not found.\")\n",
    "else:\n",
    "    print(\"No annotation file selected.\")\n",
    "    path_annotation = \"\""
   ]
  },
  {
   "cell_type": "markdown",
   "metadata": {
    "id": "_H2vnIt_3kUz"
   },
   "source": [
    "# Data preparation\n",
    "Here we clean the input .mfasta alignment and translate each sequence to a vector ready for projection."
   ]
  },
  {
   "cell_type": "markdown",
   "metadata": {},
   "source": [
    "### Parameters for data preparation"
   ]
  },
  {
   "cell_type": "code",
   "execution_count": null,
   "metadata": {
    "cellView": "form",
    "id": "9hLq_MgX6hFC"
   },
   "outputs": [],
   "source": [
    "# OPTIONS =================================================\n",
    "# Job name\n",
    "#Name for the output folder\n",
    "out_name = \"poincareMSA\"\n",
    "#----------------------------------------------------------\n",
    "# Threshold for filtering gapped positions\n",
    "#Positions with proportion of gaps above the given threshold are removed from the alignment.\n",
    "#If your alignment is very gapped, you may want to increase this value.\n",
    "gapth = 0.9 \n",
    "#==========================================================\n",
    "\n",
    "\n",
    "# Run data preparation\n",
    "#Data preparation consists in `.mfasta` cleaning according to a gap threshold and\n",
    "#translation of each sequence to the PSSM profile.\n",
    "prep_parameters = \"scripts/prepare_data\" + \" \" + mfasta + \" \" + out_name + \" \" + out_name + \" \" + str(gapth)\n",
    "bash_projection = \"bash scripts/prepare_data/create_projection.sh \" + prep_parameters\n",
    "!{bash_projection}"
   ]
  },
  {
   "cell_type": "markdown",
   "metadata": {
    "id": "Dv0lg4Jn-dfG"
   },
   "source": [
    "# Projection"
   ]
  },
  {
   "cell_type": "markdown",
   "metadata": {},
   "source": [
    "### Projection parameters"
   ]
  },
  {
   "cell_type": "code",
   "execution_count": null,
   "metadata": {},
   "outputs": [],
   "source": [
    "# OPTIONS =================================================\n",
    "#Here you control different parameters of Poincaré maps.\n",
    "#In our computational experiments the best results were achieved for the following values provided by default.\n",
    "#The impact of different parameters is analyzed in the original paper [1].\n",
    "knn = 5\n",
    "gamma = 2\n",
    "sigma = 1\n",
    "cospca = 0\n",
    "batchs = 4\n",
    "epochs = 1000\n",
    "seed = 0\n",
    "#==========================================================\n",
    "\n",
    "\n",
    "# Building projection and preparing data for visualization\n",
    "#This step creates a projection of encoded sequences to a Poincaré disk.\n",
    "bash_pm = \"python3 \"+ \"scripts/build_poincare_map/main.py --input_path \" + out_name + \"/fasta\" + str(gapth) + \" --output_path \" + out_name + \"/projections/ --gamma \"+ str(gamma) +\" --pca \"+ str(cospca) + \" --epochs \"+ str(epochs) +\" --seed \"+ str(seed) + \" --knn \" + str(knn)\n",
    "!{bash_pm}"
   ]
  },
  {
   "cell_type": "markdown",
   "metadata": {
    "id": "gRxHHfjX7CHF"
   },
   "source": [
    "# Projection visualization"
   ]
  },
  {
   "cell_type": "markdown",
   "metadata": {},
   "source": [
    "### Prepare data for visualization"
   ]
  },
  {
   "cell_type": "code",
   "execution_count": null,
   "metadata": {
    "cellView": "form",
    "colab": {
     "base_uri": "https://localhost:8080/"
    },
    "id": "A2I17cpYXGoB",
    "outputId": "a1b01a51-2182-4f97-a653-eedc42405a80"
   },
   "outputs": [],
   "source": [
    "# Prepare data for visualization\n",
    "#Check that an annotation file was provided. Create a dummy one instead\n",
    "if not path_annotation or is_empty:\n",
    "    df_annotation = pd.DataFrame(list(zip(list(range(1,nb_seq+1)), np.full(nb_seq, \"-\", dtype=object))), columns=[\"id\", \"default\"])\n",
    "    df_annotation.to_csv(\"dummy_annotation.csv\", index=False)\n",
    "    path_annotation = \"dummy_annotation.csv\"\n",
    "    annotation_names = [\"proteins_id\"]\n",
    "\n",
    "path_embedding = f\"{out_name}/projections/PM{knn:1.0f}sigma={sigma:2.2f}gamma={gamma:2.2f}cosinepca={cospca:1.0f}_seed{seed:1.0f}.csv\"\n",
    "df_embedding = read_embeddings(path_embedding, path_annotation, withroot=False)\n",
    "\n",
    "# save original coordinate before any rotation\n",
    "df_embedding[\"pm1_com\"] = df_embedding[\"pm1\"]\n",
    "df_embedding[\"pm2_com\"] = df_embedding[\"pm2\"]\n",
    "\n",
    "#Here are different labels found in your annotation file (if one uploaded):\n",
    "print(f\"{len(annotation_names)} annotations found: {annotation_names}.\")"
   ]
  },
  {
   "cell_type": "markdown",
   "metadata": {},
   "source": [
    "### Create interactive plot"
   ]
  },
  {
   "cell_type": "code",
   "execution_count": null,
   "metadata": {
    "cellView": "form",
    "colab": {
     "base_uri": "https://localhost:8080/",
     "height": 886
    },
    "id": "zLb9h9S4eKUD",
    "outputId": "58e8c73a-4869-4305-ecfb-bccc80d06db1"
   },
   "outputs": [],
   "source": [
    "# OPTIONS =================================================\n",
    "#Here you can set different parameters to color & annotate the resulting projection:\n",
    "title = \"\"\n",
    "#----------------------------------------------------------\n",
    "# Select the coloring from annotation .csv file:\n",
    "labels_name = \"\"\n",
    "# Select classes to label among the \"labels_name\" or \"second_labels_name\" column (comma separated list):\n",
    "second_labels_name = \"\"\n",
    "labels_text = []\n",
    "show_text = True\n",
    "#----------------------------------------------------------\n",
    "# Use a custom color palette:\n",
    "color_palette = None #Default: None\n",
    "use_custom_palette = False\n",
    "# Select projection center:\n",
    "id_for_rotation = None #Default: None\n",
    "use_selected_center = False\n",
    "#==========================================================\n",
    "\n",
    "\n",
    "#Check projection visualization parameters\n",
    "#Labels name\n",
    "if labels_name == \"\":\n",
    "    labels_name = None\n",
    "elif labels_name not in annotation_names:\n",
    "    raise NameError(f\"labels_name {labels_name} is not in the availables annotations.\\nAvailables annotations: {annotation_names}\")\n",
    "#Second labels name\n",
    "if second_labels_name == \"\":\n",
    "    second_labels_name = None\n",
    "elif second_labels_name not in annotation_names:\n",
    "    raise NameError(f'\"second_labels_name\" {second_labels_name} is not in the availables annotations.\\nAvailables annotations: {annotation_names}')\n",
    "#Color palet selection\n",
    "if not use_custom_palette:\n",
    "    color_palette = None\n",
    "#Center of projection selection\n",
    "\n",
    "tmp_id_for_rotation = -1\n",
    "if use_selected_center and id_for_rotation is not None:\n",
    "    if id_for_rotation != tmp_id_for_rotation:\n",
    "        tmp_id_for_rotation = id_for_rotation\n",
    "\n",
    "        poincare_coord = df_embedding[[\"pm1\",\"pm2\"]].sort_values(by=[\"proteins_id\"])\n",
    "        poincare_coord = poincare_coord.values[:,:2]\n",
    "        model = PoincareMaps(poincare_coord)\n",
    "        model.get_distances()\n",
    "\n",
    "        model.iroot = id_for_rotation - 1  #Zero indexing\n",
    "        model.rotate()\n",
    "\n",
    "        df_embedding[\"pm1\"] = model.coordinates_rotated[:,0]\n",
    "        df_embedding[\"pm2\"] = model.coordinates_rotated[:,1]\n",
    "else:\n",
    "    df_embedding[\"pm1\"] = df_embedding[\"pm1_com\"]\n",
    "    df_embedding[\"pm2\"] = df_embedding[\"pm2_com\"]\n",
    "\n",
    "#Plot graph\n",
    "fig = plot_embedding_interactive(df_embedding, \n",
    "                                 labels_name = labels_name,\n",
    "                                 second_labels_name = second_labels_name, \n",
    "                                 show_text = show_text,\n",
    "                                 labels_text = labels_text,\n",
    "                                 color_palette = color_palette, \n",
    "                                 title = title, \n",
    "                                 fontsize = 11)\n",
    "fig.show()"
   ]
  },
  {
   "cell_type": "markdown",
   "metadata": {},
   "source": [
    "### Save plot to file"
   ]
  },
  {
   "cell_type": "code",
   "execution_count": null,
   "metadata": {},
   "outputs": [],
   "source": [
    "# OPTIONS =================================================\n",
    "output_name = \"fig1\"\n",
    "output_format = \"png\" #Format availables: [\"png\", \"html\", \"pdf\", \"svg\"]\n",
    "#==========================================================\n",
    "\n",
    "\n",
    "if output_format != \"html\":\n",
    "    fig.write_image(f\"{output_name}.{output_format}\", engine=\"kaleido\")\n",
    "else:\n",
    "    fig.write_html(f\"{output_name}.{output_format}\")"
   ]
  }
 ],
 "metadata": {
  "accelerator": "GPU",
  "colab": {
   "provenance": []
  },
  "gpuClass": "standard",
  "kernelspec": {
   "display_name": "Python 3 (ipykernel)",
   "language": "python",
   "name": "python3"
  },
  "language_info": {
   "codemirror_mode": {
    "name": "ipython",
    "version": 3
   },
   "file_extension": ".py",
   "mimetype": "text/x-python",
   "name": "python",
   "nbconvert_exporter": "python",
   "pygments_lexer": "ipython3",
   "version": "3.10.12"
  }
 },
 "nbformat": 4,
 "nbformat_minor": 1
}
